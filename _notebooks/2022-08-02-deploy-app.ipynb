{
 "cells": [
  {
   "cell_type": "code",
   "execution_count": 1,
   "metadata": {},
   "outputs": [],
   "source": [
    "#|default_exp app"
   ]
  },
  {
   "cell_type": "code",
   "execution_count": 3,
   "metadata": {},
   "outputs": [
    {
     "ename": "ModuleNotFoundError",
     "evalue": "No module named 'huggingface_hub'",
     "output_type": "error",
     "traceback": [
      "\u001b[0;31m---------------------------------------------------------------------------\u001b[0m",
      "\u001b[0;31mModuleNotFoundError\u001b[0m                       Traceback (most recent call last)",
      "\u001b[1;32m/Users/tompham/Document Files/Programming/GitHub/clothing-item-classification/_notebooks/2022-08-02-deploy-app.ipynb Cell 2\u001b[0m in \u001b[0;36m<cell line: 3>\u001b[0;34m()\u001b[0m\n\u001b[1;32m      <a href='vscode-notebook-cell:/Users/tompham/Document%20Files/Programming/GitHub/clothing-item-classification/_notebooks/2022-08-02-deploy-app.ipynb#ch0000001?line=0'>1</a>\u001b[0m \u001b[39m#|export\u001b[39;00m\n\u001b[1;32m      <a href='vscode-notebook-cell:/Users/tompham/Document%20Files/Programming/GitHub/clothing-item-classification/_notebooks/2022-08-02-deploy-app.ipynb#ch0000001?line=1'>2</a>\u001b[0m \u001b[39mfrom\u001b[39;00m \u001b[39mfastai\u001b[39;00m\u001b[39m.\u001b[39;00m\u001b[39mvision\u001b[39;00m\u001b[39m.\u001b[39;00m\u001b[39mall\u001b[39;00m \u001b[39mimport\u001b[39;00m \u001b[39m*\u001b[39m\n\u001b[0;32m----> <a href='vscode-notebook-cell:/Users/tompham/Document%20Files/Programming/GitHub/clothing-item-classification/_notebooks/2022-08-02-deploy-app.ipynb#ch0000001?line=2'>3</a>\u001b[0m \u001b[39mfrom\u001b[39;00m \u001b[39mhuggingface_hub\u001b[39;00m \u001b[39mimport\u001b[39;00m push_to_hub_fastai, from_pretrained_fastai\n\u001b[1;32m      <a href='vscode-notebook-cell:/Users/tompham/Document%20Files/Programming/GitHub/clothing-item-classification/_notebooks/2022-08-02-deploy-app.ipynb#ch0000001?line=3'>4</a>\u001b[0m \u001b[39mimport\u001b[39;00m \u001b[39mgradio\u001b[39;00m \u001b[39mas\u001b[39;00m \u001b[39mgr\u001b[39;00m\n\u001b[1;32m      <a href='vscode-notebook-cell:/Users/tompham/Document%20Files/Programming/GitHub/clothing-item-classification/_notebooks/2022-08-02-deploy-app.ipynb#ch0000001?line=4'>5</a>\u001b[0m \u001b[39mimport\u001b[39;00m \u001b[39mskimage\u001b[39;00m\n",
      "\u001b[0;31mModuleNotFoundError\u001b[0m: No module named 'huggingface_hub'"
     ]
    }
   ],
   "source": [
    "#|export\n",
    "from fastai.vision.all import *\n",
    "from huggingface_hub import push_to_hub_fastai, from_pretrained_fastai\n",
    "import gradio as gr\n",
    "import skimage"
   ]
  },
  {
   "cell_type": "code",
   "execution_count": 4,
   "metadata": {},
   "outputs": [],
   "source": [
    "#|export\n",
    "title = \"Clothing item classifier\"\n",
    "description = \"A fastai model based classifer that can distinguish between shirts, pants, dresses, and socks.\"\n",
    "interpretation = 'default'\n",
    "enable_queue = True"
   ]
  },
  {
   "cell_type": "code",
   "execution_count": 5,
   "metadata": {},
   "outputs": [
    {
     "ename": "NameError",
     "evalue": "name 'from_pretrained_fastai' is not defined",
     "output_type": "error",
     "traceback": [
      "\u001b[0;31m---------------------------------------------------------------------------\u001b[0m",
      "\u001b[0;31mNameError\u001b[0m                                 Traceback (most recent call last)",
      "\u001b[1;32m/Users/tompham/Document Files/Programming/GitHub/clothing-item-classification/_notebooks/2022-08-02-deploy-app.ipynb Cell 4\u001b[0m in \u001b[0;36m<cell line: 2>\u001b[0;34m()\u001b[0m\n\u001b[1;32m      <a href='vscode-notebook-cell:/Users/tompham/Document%20Files/Programming/GitHub/clothing-item-classification/_notebooks/2022-08-02-deploy-app.ipynb#ch0000003?line=0'>1</a>\u001b[0m \u001b[39m#|export\u001b[39;00m\n\u001b[0;32m----> <a href='vscode-notebook-cell:/Users/tompham/Document%20Files/Programming/GitHub/clothing-item-classification/_notebooks/2022-08-02-deploy-app.ipynb#ch0000003?line=1'>2</a>\u001b[0m learn \u001b[39m=\u001b[39m from_pretrained_fastai(\u001b[39m\"\u001b[39m\u001b[39mtompham97/clothe-classifier\u001b[39m\u001b[39m\"\u001b[39m)\n\u001b[1;32m      <a href='vscode-notebook-cell:/Users/tompham/Document%20Files/Programming/GitHub/clothing-item-classification/_notebooks/2022-08-02-deploy-app.ipynb#ch0000003?line=2'>3</a>\u001b[0m labels \u001b[39m=\u001b[39m learn\u001b[39m.\u001b[39mdls\u001b[39m.\u001b[39mvocab\n",
      "\u001b[0;31mNameError\u001b[0m: name 'from_pretrained_fastai' is not defined"
     ]
    }
   ],
   "source": [
    "#|export\n",
    "learn = from_pretrained_fastai(\"tompham97/clothe-classifier\")\n",
    "labels = learn.dls.vocab"
   ]
  },
  {
   "cell_type": "code",
   "execution_count": null,
   "metadata": {},
   "outputs": [],
   "source": [
    "#|export\n",
    "def classify_image(img):\n",
    "    pred, idx, probs = learn.predict(img)\n",
    "    return {labels[i]: float(probs[i]) for i in range(len(labels))}"
   ]
  },
  {
   "cell_type": "code",
   "execution_count": null,
   "metadata": {},
   "outputs": [],
   "source": [
    "#|export\n",
    "image = gr.inputs.Image(shape=(192, 192))\n",
    "label = gr.outputs.Label()\n",
    "examples = ['dress.webp', 'pants.webp', 'shirt.jpeg', 'socks.jpeg']"
   ]
  },
  {
   "cell_type": "code",
   "execution_count": null,
   "metadata": {},
   "outputs": [],
   "source": [
    "#|export\n",
    "intf = gr.Interface(fn=classify_image, inputs=image,\n",
    "                    outputs=label, title=title,\n",
    "                    description=description, examples=examples,\n",
    "                    interpretation=interpretation, enable_queue=enable_queue)\n",
    "intf.launch()"
   ]
  },
  {
   "cell_type": "code",
   "execution_count": 9,
   "metadata": {},
   "outputs": [
    {
     "ename": "ImportError",
     "evalue": "cannot import name 'notebook2script' from 'nbdev.export' (/Library/Frameworks/Python.framework/Versions/3.10/lib/python3.10/site-packages/nbdev/export.py)",
     "output_type": "error",
     "traceback": [
      "\u001b[0;31m---------------------------------------------------------------------------\u001b[0m",
      "\u001b[0;31mImportError\u001b[0m                               Traceback (most recent call last)",
      "\u001b[1;32m/Users/tompham/Document Files/Programming/GitHub/clothing-item-classification/_notebooks/2022-08-02-deploy-app.ipynb Cell 8\u001b[0m in \u001b[0;36m<cell line: 2>\u001b[0;34m()\u001b[0m\n\u001b[1;32m      <a href='vscode-notebook-cell:/Users/tompham/Document%20Files/Programming/GitHub/clothing-item-classification/_notebooks/2022-08-02-deploy-app.ipynb#ch0000007?line=0'>1</a>\u001b[0m \u001b[39mimport\u001b[39;00m \u001b[39mfastai\u001b[39;00m\n\u001b[0;32m----> <a href='vscode-notebook-cell:/Users/tompham/Document%20Files/Programming/GitHub/clothing-item-classification/_notebooks/2022-08-02-deploy-app.ipynb#ch0000007?line=1'>2</a>\u001b[0m \u001b[39mfrom\u001b[39;00m \u001b[39mnbdev\u001b[39;00m\u001b[39m.\u001b[39;00m\u001b[39mexport\u001b[39;00m \u001b[39mimport\u001b[39;00m notebook2script\n\u001b[1;32m      <a href='vscode-notebook-cell:/Users/tompham/Document%20Files/Programming/GitHub/clothing-item-classification/_notebooks/2022-08-02-deploy-app.ipynb#ch0000007?line=2'>3</a>\u001b[0m notebook2script(\u001b[39m'\u001b[39m\u001b[39mapp.ipynb\u001b[39m\u001b[39m'\u001b[39m)\n",
      "\u001b[0;31mImportError\u001b[0m: cannot import name 'notebook2script' from 'nbdev.export' (/Library/Frameworks/Python.framework/Versions/3.10/lib/python3.10/site-packages/nbdev/export.py)"
     ]
    }
   ],
   "source": [
    "from nbdev.export import notebook2script\n",
    "notebook2script('app.ipynb')"
   ]
  },
  {
   "cell_type": "code",
   "execution_count": null,
   "metadata": {},
   "outputs": [],
   "source": []
  }
 ],
 "metadata": {
  "kernelspec": {
   "display_name": "Python 3.10.2 64-bit",
   "language": "python",
   "name": "python3"
  },
  "language_info": {
   "codemirror_mode": {
    "name": "ipython",
    "version": 3
   },
   "file_extension": ".py",
   "mimetype": "text/x-python",
   "name": "python",
   "nbconvert_exporter": "python",
   "pygments_lexer": "ipython3",
   "version": "3.10.2"
  },
  "orig_nbformat": 4,
  "vscode": {
   "interpreter": {
    "hash": "7e1998ff7f8aa20ada591c520b972326324e5ea05489af9e422744c7c09f6dad"
   }
  }
 },
 "nbformat": 4,
 "nbformat_minor": 2
}
