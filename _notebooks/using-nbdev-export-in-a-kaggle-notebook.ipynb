{
 "cells": [
  {
   "cell_type": "markdown",
   "id": "e98f6fc6",
   "metadata": {
    "papermill": {
     "duration": 0.007673,
     "end_time": "2022-08-01T05:26:16.968335",
     "exception": false,
     "start_time": "2022-08-01T05:26:16.960662",
     "status": "completed"
    },
    "tags": []
   },
   "source": [
    "It can be handy to create script files from notebooks, using nbdev's `notebook2script`. But since Kaggle doesn't actually save the notebook to the file-system, we have to do some workarounds to make this happen. Here's all the steps needed to export a notebook to a script:"
   ]
  },
  {
   "cell_type": "code",
   "execution_count": 1,
   "id": "67bde78f",
   "metadata": {
    "_cell_guid": "b1076dfc-b9ad-4769-8c92-a6c4dae69d19",
    "_kg_hide-output": true,
    "_uuid": "8f2839f25d086af736a60e9eeb907d3b93b6e0e5",
    "execution": {
     "iopub.execute_input": "2022-08-01T05:26:16.983777Z",
     "iopub.status.busy": "2022-08-01T05:26:16.983395Z",
     "iopub.status.idle": "2022-08-01T05:26:30.320076Z",
     "shell.execute_reply": "2022-08-01T05:26:30.319112Z"
    },
    "papermill": {
     "duration": 13.347957,
     "end_time": "2022-08-01T05:26:30.322948",
     "exception": false,
     "start_time": "2022-08-01T05:26:16.974991",
     "status": "completed"
    },
    "tags": []
   },
   "outputs": [
    {
     "name": "stdout",
     "output_type": "stream",
     "text": [
      "Collecting nbdev\r\n",
      "  Downloading nbdev-2.0.7-py3-none-any.whl (49 kB)\r\n",
      "\u001b[2K     \u001b[90m━━━━━━━━━━━━━━━━━━━━━━━━━━━━━━━━━━━━━━━\u001b[0m \u001b[32m49.2/49.2 KB\u001b[0m \u001b[31m379.8 kB/s\u001b[0m eta \u001b[36m0:00:00\u001b[0m\r\n",
      "\u001b[?25hRequirement already satisfied: astunparse in /opt/conda/lib/python3.7/site-packages (from nbdev) (1.6.3)\r\n",
      "Collecting fastcore>=1.5.11\r\n",
      "  Downloading fastcore-1.5.11-py3-none-any.whl (69 kB)\r\n",
      "\u001b[2K     \u001b[90m━━━━━━━━━━━━━━━━━━━━━━━━━━━━━━━━━━━━━━━━\u001b[0m \u001b[32m69.1/69.1 KB\u001b[0m \u001b[31m1.5 MB/s\u001b[0m eta \u001b[36m0:00:00\u001b[0m\r\n",
      "\u001b[?25hCollecting execnb\r\n",
      "  Downloading execnb-0.0.9-py3-none-any.whl (13 kB)\r\n",
      "Collecting ghapi\r\n",
      "  Downloading ghapi-1.0.0-py3-none-any.whl (55 kB)\r\n",
      "\u001b[2K     \u001b[90m━━━━━━━━━━━━━━━━━━━━━━━━━━━━━━━━━━━━━━━━\u001b[0m \u001b[32m55.3/55.3 KB\u001b[0m \u001b[31m1.8 MB/s\u001b[0m eta \u001b[36m0:00:00\u001b[0m\r\n",
      "\u001b[?25hCollecting asttokens\r\n",
      "  Downloading asttokens-2.0.5-py2.py3-none-any.whl (20 kB)\r\n",
      "Requirement already satisfied: packaging in /opt/conda/lib/python3.7/site-packages (from fastcore>=1.5.11->nbdev) (21.3)\r\n",
      "Requirement already satisfied: pip in /opt/conda/lib/python3.7/site-packages (from fastcore>=1.5.11->nbdev) (22.0.4)\r\n",
      "Requirement already satisfied: six in /opt/conda/lib/python3.7/site-packages (from asttokens->nbdev) (1.16.0)\r\n",
      "Requirement already satisfied: wheel<1.0,>=0.23.0 in /opt/conda/lib/python3.7/site-packages (from astunparse->nbdev) (0.37.1)\r\n",
      "Requirement already satisfied: ipython in /opt/conda/lib/python3.7/site-packages (from execnb->nbdev) (7.32.0)\r\n",
      "Requirement already satisfied: pexpect>4.3 in /opt/conda/lib/python3.7/site-packages (from ipython->execnb->nbdev) (4.8.0)\r\n",
      "Requirement already satisfied: matplotlib-inline in /opt/conda/lib/python3.7/site-packages (from ipython->execnb->nbdev) (0.1.3)\r\n",
      "Requirement already satisfied: jedi>=0.16 in /opt/conda/lib/python3.7/site-packages (from ipython->execnb->nbdev) (0.18.1)\r\n",
      "Requirement already satisfied: prompt-toolkit!=3.0.0,!=3.0.1,<3.1.0,>=2.0.0 in /opt/conda/lib/python3.7/site-packages (from ipython->execnb->nbdev) (3.0.27)\r\n",
      "Requirement already satisfied: setuptools>=18.5 in /opt/conda/lib/python3.7/site-packages (from ipython->execnb->nbdev) (59.8.0)\r\n",
      "Requirement already satisfied: pygments in /opt/conda/lib/python3.7/site-packages (from ipython->execnb->nbdev) (2.11.2)\r\n",
      "Requirement already satisfied: traitlets>=4.2 in /opt/conda/lib/python3.7/site-packages (from ipython->execnb->nbdev) (5.1.1)\r\n",
      "Requirement already satisfied: decorator in /opt/conda/lib/python3.7/site-packages (from ipython->execnb->nbdev) (5.1.1)\r\n",
      "Requirement already satisfied: backcall in /opt/conda/lib/python3.7/site-packages (from ipython->execnb->nbdev) (0.2.0)\r\n",
      "Requirement already satisfied: pickleshare in /opt/conda/lib/python3.7/site-packages (from ipython->execnb->nbdev) (0.7.5)\r\n",
      "Requirement already satisfied: pyparsing!=3.0.5,>=2.0.2 in /opt/conda/lib/python3.7/site-packages (from packaging->fastcore>=1.5.11->nbdev) (3.0.7)\r\n",
      "Requirement already satisfied: parso<0.9.0,>=0.8.0 in /opt/conda/lib/python3.7/site-packages (from jedi>=0.16->ipython->execnb->nbdev) (0.8.3)\r\n",
      "Requirement already satisfied: ptyprocess>=0.5 in /opt/conda/lib/python3.7/site-packages (from pexpect>4.3->ipython->execnb->nbdev) (0.7.0)\r\n",
      "Requirement already satisfied: wcwidth in /opt/conda/lib/python3.7/site-packages (from prompt-toolkit!=3.0.0,!=3.0.1,<3.1.0,>=2.0.0->ipython->execnb->nbdev) (0.2.5)\r\n",
      "Installing collected packages: asttokens, fastcore, ghapi, execnb, nbdev\r\n",
      "  Attempting uninstall: fastcore\r\n",
      "    Found existing installation: fastcore 1.4.2\r\n",
      "    Uninstalling fastcore-1.4.2:\r\n",
      "      Successfully uninstalled fastcore-1.4.2\r\n",
      "\u001b[31mERROR: pip's dependency resolver does not currently take into account all the packages that are installed. This behaviour is the source of the following dependency conflicts.\r\n",
      "fastai 2.6.0 requires fastcore<1.5,>=1.3.27, but you have fastcore 1.5.11 which is incompatible.\u001b[0m\u001b[31m\r\n",
      "\u001b[0mSuccessfully installed asttokens-2.0.5 execnb-0.0.9 fastcore-1.5.11 ghapi-1.0.0 nbdev-2.0.7\r\n",
      "\u001b[33mWARNING: Running pip as the 'root' user can result in broken permissions and conflicting behaviour with the system package manager. It is recommended to use a virtual environment instead: https://pip.pypa.io/warnings/venv\u001b[0m\u001b[33m\r\n",
      "\u001b[0m"
     ]
    }
   ],
   "source": [
    "# nbdev requires jupyter, but we're already in a notebook environment, so we can install without dependencies\n",
    "!pip install -U nbdev"
   ]
  },
  {
   "cell_type": "code",
   "execution_count": 2,
   "id": "7d504a3c",
   "metadata": {
    "execution": {
     "iopub.execute_input": "2022-08-01T05:26:30.348900Z",
     "iopub.status.busy": "2022-08-01T05:26:30.348601Z",
     "iopub.status.idle": "2022-08-01T05:26:30.352486Z",
     "shell.execute_reply": "2022-08-01T05:26:30.351661Z"
    },
    "papermill": {
     "duration": 0.0194,
     "end_time": "2022-08-01T05:26:30.354647",
     "exception": false,
     "start_time": "2022-08-01T05:26:30.335247",
     "status": "completed"
    },
    "tags": []
   },
   "outputs": [],
   "source": [
    "#|default_exp app"
   ]
  },
  {
   "cell_type": "code",
   "execution_count": 3,
   "id": "5a750b2c",
   "metadata": {
    "execution": {
     "iopub.execute_input": "2022-08-01T05:26:30.379792Z",
     "iopub.status.busy": "2022-08-01T05:26:30.379483Z",
     "iopub.status.idle": "2022-08-01T05:26:30.383067Z",
     "shell.execute_reply": "2022-08-01T05:26:30.382334Z"
    },
    "papermill": {
     "duration": 0.01868,
     "end_time": "2022-08-01T05:26:30.385041",
     "exception": false,
     "start_time": "2022-08-01T05:26:30.366361",
     "status": "completed"
    },
    "tags": []
   },
   "outputs": [],
   "source": [
    "#|export\n",
    "a=1"
   ]
  },
  {
   "cell_type": "code",
   "execution_count": 4,
   "id": "56e39655",
   "metadata": {
    "execution": {
     "iopub.execute_input": "2022-08-01T05:26:30.410338Z",
     "iopub.status.busy": "2022-08-01T05:26:30.409524Z",
     "iopub.status.idle": "2022-08-01T05:26:30.424728Z",
     "shell.execute_reply": "2022-08-01T05:26:30.423656Z"
    },
    "papermill": {
     "duration": 0.030567,
     "end_time": "2022-08-01T05:26:30.427347",
     "exception": false,
     "start_time": "2022-08-01T05:26:30.396780",
     "status": "completed"
    },
    "tags": []
   },
   "outputs": [],
   "source": [
    "# NB: This only works if you run all the cells in order - click \"Save Version\" to do this automatically\n",
    "%notebook -e testnbdev.ipynb"
   ]
  },
  {
   "cell_type": "code",
   "execution_count": 5,
   "id": "0d790688",
   "metadata": {
    "execution": {
     "iopub.execute_input": "2022-08-01T05:26:30.452725Z",
     "iopub.status.busy": "2022-08-01T05:26:30.452393Z",
     "iopub.status.idle": "2022-08-01T05:26:30.569168Z",
     "shell.execute_reply": "2022-08-01T05:26:30.568170Z"
    },
    "papermill": {
     "duration": 0.132247,
     "end_time": "2022-08-01T05:26:30.571658",
     "exception": false,
     "start_time": "2022-08-01T05:26:30.439411",
     "status": "completed"
    },
    "tags": []
   },
   "outputs": [],
   "source": [
    "from nbdev.export import nb_export\n",
    "nb_export('testnbdev.ipynb', '.')"
   ]
  },
  {
   "cell_type": "code",
   "execution_count": 6,
   "id": "67ce8b3a",
   "metadata": {
    "execution": {
     "iopub.execute_input": "2022-08-01T05:26:30.598367Z",
     "iopub.status.busy": "2022-08-01T05:26:30.597485Z",
     "iopub.status.idle": "2022-08-01T05:26:31.389457Z",
     "shell.execute_reply": "2022-08-01T05:26:31.388335Z"
    },
    "papermill": {
     "duration": 0.80871,
     "end_time": "2022-08-01T05:26:31.392264",
     "exception": false,
     "start_time": "2022-08-01T05:26:30.583554",
     "status": "completed"
    },
    "tags": []
   },
   "outputs": [
    {
     "name": "stdout",
     "output_type": "stream",
     "text": [
      "# AUTOGENERATED! DO NOT EDIT! File to edit: testnbdev.ipynb.\r\n",
      "\r\n",
      "# %% auto 0\r\n",
      "__all__ = ['a']\r\n",
      "\r\n",
      "# %% testnbdev.ipynb 2\r\n",
      "a=1\r\n"
     ]
    }
   ],
   "source": [
    "!cat app.py"
   ]
  }
 ],
 "metadata": {
  "kernelspec": {
   "display_name": "Python 3",
   "language": "python",
   "name": "python3"
  },
  "language_info": {
   "codemirror_mode": {
    "name": "ipython",
    "version": 3
   },
   "file_extension": ".py",
   "mimetype": "text/x-python",
   "name": "python",
   "nbconvert_exporter": "python",
   "pygments_lexer": "ipython3",
   "version": "3.7.12"
  },
  "papermill": {
   "default_parameters": {},
   "duration": 24.646472,
   "end_time": "2022-08-01T05:26:32.327386",
   "environment_variables": {},
   "exception": null,
   "input_path": "__notebook__.ipynb",
   "output_path": "__notebook__.ipynb",
   "parameters": {},
   "start_time": "2022-08-01T05:26:07.680914",
   "version": "2.3.4"
  }
 },
 "nbformat": 4,
 "nbformat_minor": 5
}
